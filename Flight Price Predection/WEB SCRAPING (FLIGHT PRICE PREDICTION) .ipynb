{
 "cells": [
  {
   "cell_type": "code",
   "execution_count": 1,
   "id": "386a6841",
   "metadata": {},
   "outputs": [],
   "source": [
    "# Importing necessary library files\n",
    "import warnings\n",
    "warnings.simplefilter(\"ignore\")\n",
    "warnings.filterwarnings(\"ignore\")\n",
    "\n",
    "\n",
    "import selenium\n",
    "import pandas as pd\n",
    "import numpy as np\n",
    "import time\n",
    "import requests\n",
    "import re\n",
    "from selenium import webdriver \n",
    "from selenium.webdriver.common.by import By\n",
    "from selenium.webdriver.common.keys import Keys\n",
    "from selenium.webdriver.support.ui import WebDriverWait\n",
    "from selenium.webdriver.common.action_chains import ActionChains\n",
    "from selenium.webdriver.support import expected_conditions as EC\n",
    "from selenium.common.exceptions import ElementNotVisibleException\n",
    "from selenium.common.exceptions import StaleElementReferenceException, NoSuchElementException, ElementClickInterceptedException"
   ]
  },
  {
   "cell_type": "code",
   "execution_count": 2,
   "id": "cd8382c2",
   "metadata": {},
   "outputs": [],
   "source": [
    "# Connecting to the webdriver \n",
    "driver = webdriver.Chrome(\"chromedriver.exe\")\n",
    "driver.maximize_window()        # Maximizing the window"
   ]
  },
  {
   "cell_type": "code",
   "execution_count": 3,
   "id": "87e03a7b",
   "metadata": {},
   "outputs": [],
   "source": [
    "# Getting the webpage of mentioned url\n",
    "url = \"https://www.yatra.com/\"\n",
    "driver.get(url)\n",
    "time.sleep(3)"
   ]
  },
  {
   "cell_type": "code",
   "execution_count": 4,
   "id": "b182da10",
   "metadata": {},
   "outputs": [],
   "source": [
    "name=[] #empty list\n",
    "source=[] #empty list\n",
    "dest=[] #empty list\n",
    "dep=[] #empty list\n",
    "arr=[] #empty list\n",
    "duration =[] #empty list\n",
    "stops=[] #empty list\n",
    "info=[] #empty list\n",
    "price=[] #empty list\n",
    "url=[] #empty list"
   ]
  },
  {
   "cell_type": "code",
   "execution_count": 5,
   "id": "dd68070d",
   "metadata": {},
   "outputs": [],
   "source": [
    "#the site uses cookies, click on I agree\n",
    "Iagree = driver.find_element(By.XPATH, \"//button[@class='btngdpr']\")\n",
    "Iagree.click()"
   ]
  },
  {
   "cell_type": "code",
   "execution_count": 6,
   "id": "1019e8c3",
   "metadata": {},
   "outputs": [],
   "source": [
    "#click on first location, \"New DElhi\", in section of popular domestic flight routes \n",
    "domdelhi = driver.find_element(By.XPATH, \"//div[@class='popular_destination popular-destination-module carousalModuleArea'][1]/ul/li[1]\")\n",
    "domdelhi.click()\n",
    "\n",
    "#collecting flights from Delhi to popular stops\n",
    "urldm = driver.find_elements(By.XPATH,\"//div[@class='popular_destination popular-destination-module carousalModuleArea'][1]/div/div/div/div[1]/div/a\")\n",
    "for i in urldm[:]:\n",
    "        url.append(i.get_attribute('href')) "
   ]
  },
  {
   "cell_type": "code",
   "execution_count": 7,
   "id": "40e3e6b3",
   "metadata": {},
   "outputs": [],
   "source": [
    "#click on second location, \"Mumbai\", in section of popular domestic flight routes \n",
    "dommum = driver.find_element(By.XPATH, \"//div[@class='popular_destination popular-destination-module carousalModuleArea'][1]/ul/li[2]\")\n",
    "dommum.click()\n",
    "     \n",
    "#collecting flights from Mumbai to popular stops\n",
    "urlmum = driver.find_elements(By.XPATH,\"//div[@class='popular_destination popular-destination-module carousalModuleArea'][1]/div/div/div/div[1]/div/a\")\n",
    "for i in urlmum[:]:\n",
    "        url.append(i.get_attribute('href')) "
   ]
  },
  {
   "cell_type": "code",
   "execution_count": 8,
   "id": "1a5f6a9e",
   "metadata": {},
   "outputs": [],
   "source": [
    "#click on third location, \"BANGALORE\", in section of popular domestic flight routes \n",
    "dombgl = driver.find_element(By.XPATH, \"//div[@class='popular_destination popular-destination-module carousalModuleArea'][1]/ul/li[3]\")\n",
    "dombgl.click()\n",
    "\n",
    "#collecting flights from BANGALORE to popular stops\n",
    "urlbnl = driver.find_elements(By.XPATH,\"//div[@class='popular_destination popular-destination-module carousalModuleArea'][1]/div/div/div/div[1]/div/a\")\n",
    "for i in urlbnl[:]:\n",
    "        url.append(i.get_attribute('href')) "
   ]
  },
  {
   "cell_type": "code",
   "execution_count": 9,
   "id": "ec99a95e",
   "metadata": {},
   "outputs": [],
   "source": [
    "#click on fourth location, \"HYDERABAD\", in section of popular domestic flight routes \n",
    "domhyd = driver.find_element(By.XPATH, \"//div[@class='popular_destination popular-destination-module carousalModuleArea'][1]/ul/li[4]\")\n",
    "domhyd.click()\n",
    "     \n",
    "#collecting flights from HYDERABAD to popular stops\n",
    "urlhyd = driver.find_elements(By.XPATH,\"//div[@class='popular_destination popular-destination-module carousalModuleArea'][1]/div/div/div/div[1]/div/a\")\n",
    "for i in urlhyd[:]:\n",
    "        url.append(i.get_attribute('href'))"
   ]
  },
  {
   "cell_type": "code",
   "execution_count": 10,
   "id": "13fb0af5",
   "metadata": {},
   "outputs": [],
   "source": [
    "#click on fifth location, \"Kolkata\", in section of popular domestic flight routes \n",
    "domkol = driver.find_element(By.XPATH, \"//div[@class='popular_destination popular-destination-module carousalModuleArea'][1]/ul/li[5]\")\n",
    "domkol.click()\n",
    "\n",
    "#collecting flights from Kolkata to popular stops\n",
    "urlkol = driver.find_elements(By.XPATH,\"//div[@class='popular_destination popular-destination-module carousalModuleArea'][1]/div/div/div/div[1]/div/a\")\n",
    "for i in urlkol[:]:\n",
    "        url.append(i.get_attribute('href'))res = [i for i in details if 'day' not in i]\n",
    "len(res)"
   ]
  },
  {
   "cell_type": "code",
   "execution_count": 11,
   "id": "4cd8d83f",
   "metadata": {},
   "outputs": [
    {
     "data": {
      "text/plain": [
       "50"
      ]
     },
     "execution_count": 11,
     "metadata": {},
     "output_type": "execute_result"
    }
   ],
   "source": [
    "len(url)"
   ]
  },
  {
   "cell_type": "code",
   "execution_count": 12,
   "id": "11d8830a",
   "metadata": {},
   "outputs": [],
   "source": [
    "details=[]\n",
    "for j in url:      #fetching data of various flights from each page\n",
    "    driver.get(j)\n",
    "    time.sleep(2)\n",
    "    \n",
    "    #driver.find_element(By.XPATH,\"//span[@class='flR mr15 view_more']/a\").click()\n",
    "#i-b text ellipsis\n",
    "    airline=driver.find_elements(By.XPATH,\"//div[@class='flight-det table full-width clearfix']\")\n",
    "    for i in airline:\n",
    "        details.append(i.text)\n",
    "    "
   ]
  },
  {
   "cell_type": "code",
   "execution_count": 13,
   "id": "eedd4c10",
   "metadata": {},
   "outputs": [
    {
     "data": {
      "text/html": [
       "<div>\n",
       "<style scoped>\n",
       "    .dataframe tbody tr th:only-of-type {\n",
       "        vertical-align: middle;\n",
       "    }\n",
       "\n",
       "    .dataframe tbody tr th {\n",
       "        vertical-align: top;\n",
       "    }\n",
       "\n",
       "    .dataframe thead th {\n",
       "        text-align: right;\n",
       "    }\n",
       "</style>\n",
       "<table border=\"1\" class=\"dataframe\">\n",
       "  <thead>\n",
       "    <tr style=\"text-align: right;\">\n",
       "      <th></th>\n",
       "      <th>0</th>\n",
       "    </tr>\n",
       "  </thead>\n",
       "  <tbody>\n",
       "    <tr>\n",
       "      <th>0</th>\n",
       "      <td>IndiGo\\n6E-6475/6935\\n06:20\\nNew Delhi\\n10:55\\...</td>\n",
       "    </tr>\n",
       "    <tr>\n",
       "      <th>1</th>\n",
       "      <td>IndiGo\\n6E-6034/6935\\n05:00\\nNew Delhi\\n10:55\\...</td>\n",
       "    </tr>\n",
       "    <tr>\n",
       "      <th>2</th>\n",
       "      <td>IndiGo\\n6E-2033/6182\\n23:40\\nNew Delhi\\n05:50\\...</td>\n",
       "    </tr>\n",
       "    <tr>\n",
       "      <th>3</th>\n",
       "      <td>IndiGo\\n6E-6034/6425\\n05:00\\nNew Delhi\\n10:05\\...</td>\n",
       "    </tr>\n",
       "    <tr>\n",
       "      <th>4</th>\n",
       "      <td>IndiGo\\n6E-2033/2046\\n23:40\\nNew Delhi\\n07:55\\...</td>\n",
       "    </tr>\n",
       "  </tbody>\n",
       "</table>\n",
       "</div>"
      ],
      "text/plain": [
       "                                                   0\n",
       "0  IndiGo\\n6E-6475/6935\\n06:20\\nNew Delhi\\n10:55\\...\n",
       "1  IndiGo\\n6E-6034/6935\\n05:00\\nNew Delhi\\n10:55\\...\n",
       "2  IndiGo\\n6E-2033/6182\\n23:40\\nNew Delhi\\n05:50\\...\n",
       "3  IndiGo\\n6E-6034/6425\\n05:00\\nNew Delhi\\n10:05\\...\n",
       "4  IndiGo\\n6E-2033/2046\\n23:40\\nNew Delhi\\n07:55\\..."
      ]
     },
     "execution_count": 13,
     "metadata": {},
     "output_type": "execute_result"
    }
   ],
   "source": [
    "detail_df=pd.DataFrame(details)\n",
    "detail_df.head()"
   ]
  },
  {
   "cell_type": "code",
   "execution_count": 14,
   "id": "42336bce",
   "metadata": {},
   "outputs": [
    {
     "data": {
      "text/plain": [
       "558"
      ]
     },
     "execution_count": 14,
     "metadata": {},
     "output_type": "execute_result"
    }
   ],
   "source": [
    "res = [i for i in details if 'day' not in i]\n",
    "len(res)"
   ]
  },
  {
   "cell_type": "code",
   "execution_count": 15,
   "id": "d9b529ee",
   "metadata": {},
   "outputs": [],
   "source": [
    "del_row=detail_df.index[detail_df[0].str.find('day') != -1].tolist()"
   ]
  },
  {
   "cell_type": "code",
   "execution_count": 16,
   "id": "31961ab3",
   "metadata": {},
   "outputs": [],
   "source": [
    "del_df = [detail_df[0].index.values for i in detail_df[0] if 'day' in i]"
   ]
  },
  {
   "cell_type": "code",
   "execution_count": 17,
   "id": "2bd11069",
   "metadata": {},
   "outputs": [
    {
     "data": {
      "text/plain": [
       "690"
      ]
     },
     "execution_count": 17,
     "metadata": {},
     "output_type": "execute_result"
    }
   ],
   "source": [
    "len(details)"
   ]
  },
  {
   "cell_type": "code",
   "execution_count": 18,
   "id": "7f2fc8f8",
   "metadata": {},
   "outputs": [],
   "source": [
    "Airlines_details=[]  \n",
    "for i in res:\n",
    "    Airlines_details.append(i.split('\\n'))"
   ]
  },
  {
   "cell_type": "code",
   "execution_count": 19,
   "id": "e8188101",
   "metadata": {},
   "outputs": [],
   "source": [
    "name=[]\n",
    "for i in Airlines_details:\n",
    "    name.append(i[0])"
   ]
  },
  {
   "cell_type": "code",
   "execution_count": 20,
   "id": "b3fb6201",
   "metadata": {},
   "outputs": [],
   "source": [
    "source=[] #empty list\n",
    "for i in Airlines_details:\n",
    "    source.append(i[3])"
   ]
  },
  {
   "cell_type": "code",
   "execution_count": 21,
   "id": "b1dd7f1b",
   "metadata": {},
   "outputs": [],
   "source": [
    "destination=[] #empty list\n",
    "for i in Airlines_details:\n",
    "    destination.append(i[5])"
   ]
  },
  {
   "cell_type": "code",
   "execution_count": 22,
   "id": "1c1497a5",
   "metadata": {},
   "outputs": [],
   "source": [
    "dep_time=[] #empty list\n",
    "for i in Airlines_details:\n",
    "    dep_time.append(i[2])"
   ]
  },
  {
   "cell_type": "code",
   "execution_count": 23,
   "id": "5e61219e",
   "metadata": {},
   "outputs": [],
   "source": [
    "arr_time=[] #empty list\n",
    "for i in Airlines_details:\n",
    "    arr_time.append(i[4])"
   ]
  },
  {
   "cell_type": "code",
   "execution_count": 24,
   "id": "dfcd6e10",
   "metadata": {},
   "outputs": [],
   "source": [
    "duration =[] #empty list\n",
    "for i in Airlines_details:\n",
    "    duration.append(i[6])"
   ]
  },
  {
   "cell_type": "code",
   "execution_count": 25,
   "id": "ffe08980",
   "metadata": {},
   "outputs": [],
   "source": [
    "stops=[] #empty list\n",
    "for i in Airlines_details:\n",
    "    stops.append(i[7])"
   ]
  },
  {
   "cell_type": "code",
   "execution_count": 26,
   "id": "484ce68d",
   "metadata": {},
   "outputs": [],
   "source": [
    "price=[] #empty list\n",
    "for i in Airlines_details:\n",
    "    if i[8].find('at')==-1:\n",
    "        price.append(i[8])\n",
    "    else:\n",
    "        pos=i[8].find('at')\n",
    "        price.append(i[8][pos+2:])"
   ]
  },
  {
   "cell_type": "code",
   "execution_count": 27,
   "id": "07a37bfe",
   "metadata": {},
   "outputs": [],
   "source": [
    "info=[] #empty list\n",
    "for j in url:      #fetching data of various flights from each page\n",
    "    driver.get(j)\n",
    "    time.sleep(2)\n",
    "    try:    \n",
    "        #fetching the additional information of the flight\n",
    "        ad=driver.find_elements(By.XPATH,\"//div[@class='features pull-right fs-12 flex']\")\n",
    "        for k in ad:\n",
    "            y=k.text.split('\\n')\n",
    "            if y[0]=='Free Meal' or y[0]=='No Meal Fare':\n",
    "                info.append(y[0])\n",
    "            else:\n",
    "                info.append('No info')\n",
    "    except:\n",
    "        info.append('No info')"
   ]
  },
  {
   "cell_type": "code",
   "execution_count": 28,
   "id": "14b323fe",
   "metadata": {},
   "outputs": [
    {
     "data": {
      "text/html": [
       "<div>\n",
       "<style scoped>\n",
       "    .dataframe tbody tr th:only-of-type {\n",
       "        vertical-align: middle;\n",
       "    }\n",
       "\n",
       "    .dataframe tbody tr th {\n",
       "        vertical-align: top;\n",
       "    }\n",
       "\n",
       "    .dataframe thead th {\n",
       "        text-align: right;\n",
       "    }\n",
       "</style>\n",
       "<table border=\"1\" class=\"dataframe\">\n",
       "  <thead>\n",
       "    <tr style=\"text-align: right;\">\n",
       "      <th></th>\n",
       "      <th>0</th>\n",
       "    </tr>\n",
       "  </thead>\n",
       "  <tbody>\n",
       "    <tr>\n",
       "      <th>0</th>\n",
       "      <td>No info</td>\n",
       "    </tr>\n",
       "    <tr>\n",
       "      <th>1</th>\n",
       "      <td>No info</td>\n",
       "    </tr>\n",
       "    <tr>\n",
       "      <th>3</th>\n",
       "      <td>No info</td>\n",
       "    </tr>\n",
       "    <tr>\n",
       "      <th>6</th>\n",
       "      <td>No info</td>\n",
       "    </tr>\n",
       "    <tr>\n",
       "      <th>8</th>\n",
       "      <td>No info</td>\n",
       "    </tr>\n",
       "    <tr>\n",
       "      <th>...</th>\n",
       "      <td>...</td>\n",
       "    </tr>\n",
       "    <tr>\n",
       "      <th>681</th>\n",
       "      <td>No info</td>\n",
       "    </tr>\n",
       "    <tr>\n",
       "      <th>682</th>\n",
       "      <td>No info</td>\n",
       "    </tr>\n",
       "    <tr>\n",
       "      <th>683</th>\n",
       "      <td>No info</td>\n",
       "    </tr>\n",
       "    <tr>\n",
       "      <th>686</th>\n",
       "      <td>No info</td>\n",
       "    </tr>\n",
       "    <tr>\n",
       "      <th>689</th>\n",
       "      <td>No info</td>\n",
       "    </tr>\n",
       "  </tbody>\n",
       "</table>\n",
       "<p>558 rows × 1 columns</p>\n",
       "</div>"
      ],
      "text/plain": [
       "           0\n",
       "0    No info\n",
       "1    No info\n",
       "3    No info\n",
       "6    No info\n",
       "8    No info\n",
       "..       ...\n",
       "681  No info\n",
       "682  No info\n",
       "683  No info\n",
       "686  No info\n",
       "689  No info\n",
       "\n",
       "[558 rows x 1 columns]"
      ]
     },
     "execution_count": 28,
     "metadata": {},
     "output_type": "execute_result"
    }
   ],
   "source": [
    "info_df=pd.DataFrame(info)\n",
    "info_df=info_df.drop(del_row)\n",
    "info_df"
   ]
  },
  {
   "cell_type": "code",
   "execution_count": 29,
   "id": "07a521dc",
   "metadata": {},
   "outputs": [
    {
     "name": "stdout",
     "output_type": "stream",
     "text": [
      "558 558 558 558 558 558 558 558\n"
     ]
    }
   ],
   "source": [
    "print(len(name),len(source),len(destination),len(dep_time),len(arr_time),len(duration),len(stops),len(price)) "
   ]
  },
  {
   "cell_type": "code",
   "execution_count": 30,
   "id": "494de1d2",
   "metadata": {},
   "outputs": [
    {
     "data": {
      "text/html": [
       "<div>\n",
       "<style scoped>\n",
       "    .dataframe tbody tr th:only-of-type {\n",
       "        vertical-align: middle;\n",
       "    }\n",
       "\n",
       "    .dataframe tbody tr th {\n",
       "        vertical-align: top;\n",
       "    }\n",
       "\n",
       "    .dataframe thead th {\n",
       "        text-align: right;\n",
       "    }\n",
       "</style>\n",
       "<table border=\"1\" class=\"dataframe\">\n",
       "  <thead>\n",
       "    <tr style=\"text-align: right;\">\n",
       "      <th></th>\n",
       "      <th>Airline</th>\n",
       "      <th>Source</th>\n",
       "      <th>Destination</th>\n",
       "      <th>Dep_Time</th>\n",
       "      <th>Arrival_Time</th>\n",
       "      <th>Duration</th>\n",
       "      <th>Total_Stops</th>\n",
       "      <th>Additional_Info</th>\n",
       "      <th>Price (in ₹)</th>\n",
       "    </tr>\n",
       "  </thead>\n",
       "  <tbody>\n",
       "    <tr>\n",
       "      <th>0</th>\n",
       "      <td>IndiGo</td>\n",
       "      <td>New Delhi</td>\n",
       "      <td>Mumbai</td>\n",
       "      <td>06:20</td>\n",
       "      <td>10:55</td>\n",
       "      <td>4h 35m</td>\n",
       "      <td>1 Stop</td>\n",
       "      <td>No info</td>\n",
       "      <td>4,293</td>\n",
       "    </tr>\n",
       "    <tr>\n",
       "      <th>1</th>\n",
       "      <td>IndiGo</td>\n",
       "      <td>New Delhi</td>\n",
       "      <td>Mumbai</td>\n",
       "      <td>05:00</td>\n",
       "      <td>10:55</td>\n",
       "      <td>5h 55m</td>\n",
       "      <td>1 Stop</td>\n",
       "      <td>No info</td>\n",
       "      <td>4,293</td>\n",
       "    </tr>\n",
       "    <tr>\n",
       "      <th>2</th>\n",
       "      <td>IndiGo</td>\n",
       "      <td>New Delhi</td>\n",
       "      <td>Mumbai</td>\n",
       "      <td>05:00</td>\n",
       "      <td>10:05</td>\n",
       "      <td>5h 05m</td>\n",
       "      <td>1 Stop</td>\n",
       "      <td>NaN</td>\n",
       "      <td>4,441</td>\n",
       "    </tr>\n",
       "    <tr>\n",
       "      <th>3</th>\n",
       "      <td>Go First</td>\n",
       "      <td>New Delhi</td>\n",
       "      <td>Mumbai</td>\n",
       "      <td>06:00</td>\n",
       "      <td>10:15</td>\n",
       "      <td>4h 15m</td>\n",
       "      <td>1 Stop</td>\n",
       "      <td>No info</td>\n",
       "      <td>4,805</td>\n",
       "    </tr>\n",
       "    <tr>\n",
       "      <th>4</th>\n",
       "      <td>Go First</td>\n",
       "      <td>New Delhi</td>\n",
       "      <td>Mumbai</td>\n",
       "      <td>17:30</td>\n",
       "      <td>21:25</td>\n",
       "      <td>3h 55m</td>\n",
       "      <td>1 Stop</td>\n",
       "      <td>NaN</td>\n",
       "      <td>4,950</td>\n",
       "    </tr>\n",
       "    <tr>\n",
       "      <th>...</th>\n",
       "      <td>...</td>\n",
       "      <td>...</td>\n",
       "      <td>...</td>\n",
       "      <td>...</td>\n",
       "      <td>...</td>\n",
       "      <td>...</td>\n",
       "      <td>...</td>\n",
       "      <td>...</td>\n",
       "      <td>...</td>\n",
       "    </tr>\n",
       "    <tr>\n",
       "      <th>553</th>\n",
       "      <td>Air Asia</td>\n",
       "      <td>Kolkata</td>\n",
       "      <td>Pune</td>\n",
       "      <td>08:30</td>\n",
       "      <td>14:10</td>\n",
       "      <td>5h 40m</td>\n",
       "      <td>1 Stop</td>\n",
       "      <td>No Meal Fare</td>\n",
       "      <td>7,110</td>\n",
       "    </tr>\n",
       "    <tr>\n",
       "      <th>554</th>\n",
       "      <td>Air Asia</td>\n",
       "      <td>Kolkata</td>\n",
       "      <td>Pune</td>\n",
       "      <td>16:00</td>\n",
       "      <td>22:35</td>\n",
       "      <td>6h 35m</td>\n",
       "      <td>1 Stop</td>\n",
       "      <td>No info</td>\n",
       "      <td>7,110</td>\n",
       "    </tr>\n",
       "    <tr>\n",
       "      <th>555</th>\n",
       "      <td>Air Asia</td>\n",
       "      <td>Kolkata</td>\n",
       "      <td>Pune</td>\n",
       "      <td>14:05</td>\n",
       "      <td>22:35</td>\n",
       "      <td>8h 30m</td>\n",
       "      <td>1 Stop</td>\n",
       "      <td>No info</td>\n",
       "      <td>7,110</td>\n",
       "    </tr>\n",
       "    <tr>\n",
       "      <th>556</th>\n",
       "      <td>Air Asia</td>\n",
       "      <td>Kolkata</td>\n",
       "      <td>Pune</td>\n",
       "      <td>05:25</td>\n",
       "      <td>17:05</td>\n",
       "      <td>11h 40m</td>\n",
       "      <td>1 Stop</td>\n",
       "      <td>No info</td>\n",
       "      <td>7,110</td>\n",
       "    </tr>\n",
       "    <tr>\n",
       "      <th>557</th>\n",
       "      <td>Air Asia</td>\n",
       "      <td>Kolkata</td>\n",
       "      <td>Pune</td>\n",
       "      <td>08:30</td>\n",
       "      <td>22:35</td>\n",
       "      <td>14h 05m</td>\n",
       "      <td>1 Stop</td>\n",
       "      <td>No info</td>\n",
       "      <td>7,110</td>\n",
       "    </tr>\n",
       "  </tbody>\n",
       "</table>\n",
       "<p>558 rows × 9 columns</p>\n",
       "</div>"
      ],
      "text/plain": [
       "      Airline     Source Destination Dep_Time Arrival_Time Duration  \\\n",
       "0      IndiGo  New Delhi      Mumbai    06:20        10:55   4h 35m   \n",
       "1      IndiGo  New Delhi      Mumbai    05:00        10:55   5h 55m   \n",
       "2      IndiGo  New Delhi      Mumbai    05:00        10:05   5h 05m   \n",
       "3    Go First  New Delhi      Mumbai    06:00        10:15   4h 15m   \n",
       "4    Go First  New Delhi      Mumbai    17:30        21:25   3h 55m   \n",
       "..        ...        ...         ...      ...          ...      ...   \n",
       "553  Air Asia    Kolkata        Pune    08:30        14:10   5h 40m   \n",
       "554  Air Asia    Kolkata        Pune    16:00        22:35   6h 35m   \n",
       "555  Air Asia    Kolkata        Pune    14:05        22:35   8h 30m   \n",
       "556  Air Asia    Kolkata        Pune    05:25        17:05  11h 40m   \n",
       "557  Air Asia    Kolkata        Pune    08:30        22:35  14h 05m   \n",
       "\n",
       "    Total_Stops Additional_Info Price (in ₹)  \n",
       "0        1 Stop         No info        4,293  \n",
       "1        1 Stop         No info        4,293  \n",
       "2        1 Stop             NaN        4,441  \n",
       "3        1 Stop         No info        4,805  \n",
       "4        1 Stop             NaN        4,950  \n",
       "..          ...             ...          ...  \n",
       "553      1 Stop    No Meal Fare        7,110  \n",
       "554      1 Stop         No info        7,110  \n",
       "555      1 Stop         No info        7,110  \n",
       "556      1 Stop         No info        7,110  \n",
       "557      1 Stop         No info        7,110  \n",
       "\n",
       "[558 rows x 9 columns]"
      ]
     },
     "execution_count": 30,
     "metadata": {},
     "output_type": "execute_result"
    }
   ],
   "source": [
    "Flight = pd.DataFrame({})   #creating a datafrmae\n",
    "Flight['Airline']=name\n",
    "Flight['Source']=source\n",
    "Flight['Destination']=destination\n",
    "Flight['Dep_Time']=dep_time\n",
    "Flight['Arrival_Time']=arr_time\n",
    "Flight['Duration']=duration\n",
    "Flight['Total_Stops']=stops\n",
    "Flight['Additional_Info']=info_df[0]\n",
    "Flight['Price (in ₹)']=price\n",
    "Flight"
   ]
  },
  {
   "cell_type": "code",
   "execution_count": 31,
   "id": "727ebf0b",
   "metadata": {},
   "outputs": [],
   "source": [
    "Flight.to_csv('Flight price Dataset.csv')\n",
    "#saving/exporting the dataset into excel"
   ]
  },
  {
   "cell_type": "code",
   "execution_count": 32,
   "id": "256134bc",
   "metadata": {},
   "outputs": [],
   "source": [
    "driver.quit()\n",
    "#closing the chrome driver"
   ]
  },
  {
   "cell_type": "code",
   "execution_count": null,
   "id": "965455f8",
   "metadata": {},
   "outputs": [],
   "source": []
  }
 ],
 "metadata": {
  "kernelspec": {
   "display_name": "Python 3 (ipykernel)",
   "language": "python",
   "name": "python3"
  },
  "language_info": {
   "codemirror_mode": {
    "name": "ipython",
    "version": 3
   },
   "file_extension": ".py",
   "mimetype": "text/x-python",
   "name": "python",
   "nbconvert_exporter": "python",
   "pygments_lexer": "ipython3",
   "version": "3.9.7"
  }
 },
 "nbformat": 4,
 "nbformat_minor": 5
}
